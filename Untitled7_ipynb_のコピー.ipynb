{
  "nbformat": 4,
  "nbformat_minor": 0,
  "metadata": {
    "colab": {
      "name": "Untitled7.ipynb のコピー",
      "provenance": [],
      "collapsed_sections": [],
      "include_colab_link": true
    },
    "kernelspec": {
      "name": "python3",
      "display_name": "Python 3"
    }
  },
  "cells": [
    {
      "cell_type": "markdown",
      "metadata": {
        "id": "view-in-github",
        "colab_type": "text"
      },
      "source": [
        "<a href=\"https://colab.research.google.com/github/cforestw/test/blob/master/Untitled7_ipynb_%E3%81%AE%E3%82%B3%E3%83%94%E3%83%BC.ipynb\" target=\"_parent\"><img src=\"https://colab.research.google.com/assets/colab-badge.svg\" alt=\"Open In Colab\"/></a>"
      ]
    },
    {
      "cell_type": "markdown",
      "metadata": {
        "id": "THK3F5TB6klw",
        "colab_type": "text"
      },
      "source": [
        "06-Built-in-Data-Structures.ipynb\n",
        "\n",
        "https://github.com/jakevdp/WhirlwindTourOfPython/blob/master/06-Built-in-Data-Structures.ipynb\n",
        "\n"
      ]
    },
    {
      "cell_type": "code",
      "metadata": {
        "id": "M0Fp1uxE6hwV",
        "colab_type": "code",
        "outputId": "db78b05d-8a02-45ac-f8b7-19ccf4810a06",
        "colab": {
          "base_uri": "https://localhost:8080/",
          "height": 33
        }
      },
      "source": [
        "def test(A, B):\n",
        "  C=A+B\n",
        "  return C\n",
        "\n",
        "A=[1,2,3]\n",
        "B=[5,6,7]\n",
        "print(test(A,B))"
      ],
      "execution_count": 0,
      "outputs": [
        {
          "output_type": "stream",
          "text": [
            "[1, 2, 3, 5, 6, 7]\n"
          ],
          "name": "stdout"
        }
      ]
    },
    {
      "cell_type": "code",
      "metadata": {
        "id": "plYlGzd20hJS",
        "colab_type": "code",
        "colab": {}
      },
      "source": [
        "l=[4,3,2,1]\n",
        "print(len(l) ,l)\n",
        "l.append(7)\n",
        "print(len(l) ,l)\n",
        "l += [10,11]\n",
        "print(len(l) ,l)\n",
        "l.sort()\n",
        "print(len(l) ,l)\n",
        "l.sort(reverse=True)\n",
        "print(len(l) ,l)"
      ],
      "execution_count": 0,
      "outputs": []
    },
    {
      "cell_type": "code",
      "metadata": {
        "id": "jIaJerQH0iXI",
        "colab_type": "code",
        "outputId": "79c7250a-97e4-4f88-f063-d981050a3744",
        "colab": {
          "base_uri": "https://localhost:8080/",
          "height": 163
        }
      },
      "source": [
        "l=[1,\"tow\",3.14,[0,3,5]]\n",
        "print(l)\n",
        "print(l[3])\n",
        "l=[2,3,5,6]\n",
        "print(l[1])\n",
        "print(l[-1])\n",
        "print(l[-2:])\n",
        "print(l[2:3])\n",
        "print(l[2:])\n",
        "#print(l[::4])\n",
        "l[0]=1000\n",
        "print(l)\n",
        "del l[1]\n",
        "print(l)\n"
      ],
      "execution_count": 0,
      "outputs": [
        {
          "output_type": "stream",
          "text": [
            "[1, 'tow', 3.14, [0, 3, 5]]\n",
            "[0, 3, 5]\n",
            "3\n",
            "6\n",
            "[5, 6]\n",
            "[5]\n",
            "[5, 6]\n",
            "[1000, 3, 5, 6]\n",
            "[1000, 5, 6]\n"
          ],
          "name": "stdout"
        }
      ]
    },
    {
      "cell_type": "code",
      "metadata": {
        "id": "CIX-qrtA51Rv",
        "colab_type": "code",
        "colab": {}
      },
      "source": [
        "t = (1,2,3)\n",
        "print(type(t))\n",
        "print(len(t),t)\n",
        "print(t[1])\n",
        "#t[0]=100\n",
        "t.append(4)\n",
        "print(len(t),t)"
      ],
      "execution_count": 0,
      "outputs": []
    },
    {
      "cell_type": "code",
      "metadata": {
        "id": "K6P8i6uo5zR2",
        "colab_type": "code",
        "colab": {
          "base_uri": "https://localhost:8080/",
          "height": 50
        },
        "outputId": "b5e9d544-0191-401a-de89-d37868f8c202"
      },
      "source": [
        "x=3.14\n",
        "x.as_integer_ratio()\n",
        "n,d =x.as_integer_ratio()\n",
        "print(n,d,n/d)\n",
        "\n",
        "x=0.25\n",
        "x.as_integer_ratio()\n",
        "n,d =x.as_integer_ratio()\n",
        "print(n,d,n/d)"
      ],
      "execution_count": 4,
      "outputs": [
        {
          "output_type": "stream",
          "text": [
            "7070651414971679 2251799813685248 3.14\n",
            "1 4 0.25\n"
          ],
          "name": "stdout"
        }
      ]
    },
    {
      "cell_type": "code",
      "metadata": {
        "id": "ngimVMbF6yr6",
        "colab_type": "code",
        "colab": {
          "base_uri": "https://localhost:8080/",
          "height": 66
        },
        "outputId": "15fcc2f8-ce70-4984-d1a7-b80637c8cc82"
      },
      "source": [
        "n={\"one\":1,\"two\":2,\"three\":3}\n",
        "print(n)\n",
        "print(n[\"two\"])\n",
        "n[\"four\"]=4\n",
        "print(n)\n"
      ],
      "execution_count": 8,
      "outputs": [
        {
          "output_type": "stream",
          "text": [
            "{'one': 1, 'two': 2, 'three': 3}\n",
            "2\n",
            "{'one': 1, 'two': 2, 'three': 3, 'four': 4}\n"
          ],
          "name": "stdout"
        }
      ]
    },
    {
      "cell_type": "code",
      "metadata": {
        "id": "dJJHKPPZ7Nt3",
        "colab_type": "code",
        "colab": {
          "base_uri": "https://localhost:8080/",
          "height": 163
        },
        "outputId": "0e8f55a5-b86b-4d90-eaa7-94b86ae14505"
      },
      "source": [
        "p={2,3,4,7}\n",
        "o={1,3,5,7,8}\n",
        "print(p,o)\n",
        "print(p | o) #or\n",
        "print(p.union(o)) #or\n",
        "\n",
        "print(p & o) #and\n",
        "print(p.intersection(o)) #and\n",
        "\n",
        "print(p - o)\n",
        "print(p.difference(o))\n",
        "\n",
        "print(p ^ o) #nand\n",
        "print(p.symmetric_difference(o)) #nand\n",
        "\n"
      ],
      "execution_count": 16,
      "outputs": [
        {
          "output_type": "stream",
          "text": [
            "{2, 3, 4, 7} {1, 3, 5, 7, 8}\n",
            "{1, 2, 3, 4, 5, 7, 8}\n",
            "{1, 2, 3, 4, 5, 7, 8}\n",
            "{3, 7}\n",
            "{3, 7}\n",
            "{2, 4}\n",
            "{2, 4}\n",
            "{1, 2, 4, 5, 8}\n",
            "{1, 2, 4, 5, 8}\n"
          ],
          "name": "stdout"
        }
      ]
    },
    {
      "cell_type": "code",
      "metadata": {
        "id": "BtLXZ6Gu55D4",
        "colab_type": "code",
        "colab": {}
      },
      "source": [
        ""
      ],
      "execution_count": 0,
      "outputs": []
    }
  ]
}